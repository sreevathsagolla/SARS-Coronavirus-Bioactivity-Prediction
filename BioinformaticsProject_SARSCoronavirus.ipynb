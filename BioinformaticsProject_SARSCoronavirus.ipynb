{
 "cells": [
  {
   "cell_type": "markdown",
   "metadata": {
    "id": "-5cmKT9JMKeS"
   },
   "source": [
    " # Bioinformatics Project – SARS Coronavirus Bioactivity Prediction"
   ]
  },
  {
   "cell_type": "markdown",
   "metadata": {},
   "source": [
    "_**Team Members:\n",
    "Sreevathsa Golla (18274), Desaraju Harsha Vardhan (18084), RVRS Mithilesh (18189)**_"
   ]
  },
  {
   "source": [
    "_(All the team members are BS-MS students of IISER Bhopal, India)_"
   ],
   "cell_type": "markdown",
   "metadata": {}
  },
  {
   "cell_type": "markdown",
   "metadata": {},
   "source": [
    "The project was dealt by us in four parts, namely:<br>\n",
    "1. **Data Retrieval**: Collection of bioactivity database for SARS Coronavirus (Single Protein) from ChEMBL using chembl_webresource_client. <br>\n",
    "2. **Data Pre-processing**: Classifying the bioactivity of the compounds by IC50 value (as active, inactive or intermediate) and making a dataframe with only the relevant columns from unprocessed database (and further, saving it into a separate .csv file). <br>\n",
    "3. **Making and adding descriptors**: Making and adding relevant descriptors (ALogP, PSA, Mol. Wt., Number of H acceptors and H donors) and combining pre-processed data and these molecular descriptors. <br>\n",
    "4. **Applying different ML models on the data**: Using the above data, splitting it into testing and training data sets, applying different ML models and checking their accuracy.<br>"
   ]
  },
  {
   "cell_type": "markdown",
   "metadata": {
    "id": "WU7qj-f8MKeT"
   },
   "source": [
    "### Part 1: Data Retrieval"
   ]
  },
  {
   "cell_type": "code",
   "execution_count": 38,
   "metadata": {
    "id": "tAlgDp83MKeT"
   },
   "outputs": [],
   "source": [
    "# Importing the ChEMBl webresource for searching targets and downloading data.\n",
    "\n",
    "import pandas as pd\n",
    "from chembl_webresource_client.new_client import new_client"
   ]
  },
  {
   "cell_type": "code",
   "execution_count": 39,
   "metadata": {
    "id": "gkzw9pkNMKeX",
    "outputId": "cf6a088d-0779-4866-b51e-be17301d3036"
   },
   "outputs": [
    {
     "output_type": "execute_result",
     "data": {
      "text/plain": [
       "                                    cross_references  \\\n",
       "0                                                 []   \n",
       "1                                                 []   \n",
       "2                                                 []   \n",
       "3                                                 []   \n",
       "4  [{'xref_id': 'P0C6U8', 'xref_name': None, 'xre...   \n",
       "5                                                 []   \n",
       "6  [{'xref_id': 'P0C6X7', 'xref_name': None, 'xre...   \n",
       "7                                                 []   \n",
       "\n",
       "                                            organism  \\\n",
       "0                                        Coronavirus   \n",
       "1                                   SARS coronavirus   \n",
       "2                                 Feline coronavirus   \n",
       "3                             Human coronavirus 229E   \n",
       "4                                   SARS coronavirus   \n",
       "5  Middle East respiratory syndrome-related coron...   \n",
       "6                                   SARS coronavirus   \n",
       "7    Severe acute respiratory syndrome coronavirus 2   \n",
       "\n",
       "                                           pref_name  score  \\\n",
       "0                                        Coronavirus   17.0   \n",
       "1                                   SARS coronavirus   15.0   \n",
       "2                                 Feline coronavirus   15.0   \n",
       "3                             Human coronavirus 229E   13.0   \n",
       "4                SARS coronavirus 3C-like proteinase   10.0   \n",
       "5  Middle East respiratory syndrome-related coron...    9.0   \n",
       "6                          Replicase polyprotein 1ab    4.0   \n",
       "7                          Replicase polyprotein 1ab    4.0   \n",
       "\n",
       "   species_group_flag target_chembl_id  \\\n",
       "0               False     CHEMBL613732   \n",
       "1               False     CHEMBL612575   \n",
       "2               False     CHEMBL612744   \n",
       "3               False     CHEMBL613837   \n",
       "4               False       CHEMBL3927   \n",
       "5               False    CHEMBL4296578   \n",
       "6               False       CHEMBL5118   \n",
       "7               False    CHEMBL4523582   \n",
       "\n",
       "                                   target_components     target_type   tax_id  \n",
       "0                                                 []        ORGANISM    11119  \n",
       "1                                                 []        ORGANISM   227859  \n",
       "2                                                 []        ORGANISM    12663  \n",
       "3                                                 []        ORGANISM    11137  \n",
       "4  [{'accession': 'P0C6U8', 'component_descriptio...  SINGLE PROTEIN   227859  \n",
       "5                                                 []        ORGANISM  1335626  \n",
       "6  [{'accession': 'P0C6X7', 'component_descriptio...  SINGLE PROTEIN   227859  \n",
       "7  [{'accession': 'P0DTD1', 'component_descriptio...  SINGLE PROTEIN  2697049  "
      ],
      "text/html": "<div>\n<style scoped>\n    .dataframe tbody tr th:only-of-type {\n        vertical-align: middle;\n    }\n\n    .dataframe tbody tr th {\n        vertical-align: top;\n    }\n\n    .dataframe thead th {\n        text-align: right;\n    }\n</style>\n<table border=\"1\" class=\"dataframe\">\n  <thead>\n    <tr style=\"text-align: right;\">\n      <th></th>\n      <th>cross_references</th>\n      <th>organism</th>\n      <th>pref_name</th>\n      <th>score</th>\n      <th>species_group_flag</th>\n      <th>target_chembl_id</th>\n      <th>target_components</th>\n      <th>target_type</th>\n      <th>tax_id</th>\n    </tr>\n  </thead>\n  <tbody>\n    <tr>\n      <th>0</th>\n      <td>[]</td>\n      <td>Coronavirus</td>\n      <td>Coronavirus</td>\n      <td>17.0</td>\n      <td>False</td>\n      <td>CHEMBL613732</td>\n      <td>[]</td>\n      <td>ORGANISM</td>\n      <td>11119</td>\n    </tr>\n    <tr>\n      <th>1</th>\n      <td>[]</td>\n      <td>SARS coronavirus</td>\n      <td>SARS coronavirus</td>\n      <td>15.0</td>\n      <td>False</td>\n      <td>CHEMBL612575</td>\n      <td>[]</td>\n      <td>ORGANISM</td>\n      <td>227859</td>\n    </tr>\n    <tr>\n      <th>2</th>\n      <td>[]</td>\n      <td>Feline coronavirus</td>\n      <td>Feline coronavirus</td>\n      <td>15.0</td>\n      <td>False</td>\n      <td>CHEMBL612744</td>\n      <td>[]</td>\n      <td>ORGANISM</td>\n      <td>12663</td>\n    </tr>\n    <tr>\n      <th>3</th>\n      <td>[]</td>\n      <td>Human coronavirus 229E</td>\n      <td>Human coronavirus 229E</td>\n      <td>13.0</td>\n      <td>False</td>\n      <td>CHEMBL613837</td>\n      <td>[]</td>\n      <td>ORGANISM</td>\n      <td>11137</td>\n    </tr>\n    <tr>\n      <th>4</th>\n      <td>[{'xref_id': 'P0C6U8', 'xref_name': None, 'xre...</td>\n      <td>SARS coronavirus</td>\n      <td>SARS coronavirus 3C-like proteinase</td>\n      <td>10.0</td>\n      <td>False</td>\n      <td>CHEMBL3927</td>\n      <td>[{'accession': 'P0C6U8', 'component_descriptio...</td>\n      <td>SINGLE PROTEIN</td>\n      <td>227859</td>\n    </tr>\n    <tr>\n      <th>5</th>\n      <td>[]</td>\n      <td>Middle East respiratory syndrome-related coron...</td>\n      <td>Middle East respiratory syndrome-related coron...</td>\n      <td>9.0</td>\n      <td>False</td>\n      <td>CHEMBL4296578</td>\n      <td>[]</td>\n      <td>ORGANISM</td>\n      <td>1335626</td>\n    </tr>\n    <tr>\n      <th>6</th>\n      <td>[{'xref_id': 'P0C6X7', 'xref_name': None, 'xre...</td>\n      <td>SARS coronavirus</td>\n      <td>Replicase polyprotein 1ab</td>\n      <td>4.0</td>\n      <td>False</td>\n      <td>CHEMBL5118</td>\n      <td>[{'accession': 'P0C6X7', 'component_descriptio...</td>\n      <td>SINGLE PROTEIN</td>\n      <td>227859</td>\n    </tr>\n    <tr>\n      <th>7</th>\n      <td>[]</td>\n      <td>Severe acute respiratory syndrome coronavirus 2</td>\n      <td>Replicase polyprotein 1ab</td>\n      <td>4.0</td>\n      <td>False</td>\n      <td>CHEMBL4523582</td>\n      <td>[{'accession': 'P0DTD1', 'component_descriptio...</td>\n      <td>SINGLE PROTEIN</td>\n      <td>2697049</td>\n    </tr>\n  </tbody>\n</table>\n</div>"
     },
     "metadata": {},
     "execution_count": 39
    }
   ],
   "source": [
    "# Searching by the string 'coronavirus' and saving all the target results in targets Dataframe.\n",
    "\n",
    "target_query = new_client.target.search('coronavirus') \n",
    "\n",
    "# A total of 7 results (5 cellline databases and 2 bioactivity databases of single-protein type organisms).\n",
    "\n",
    "targets = pd.DataFrame.from_dict(target_query)\n",
    "targets"
   ]
  },
  {
   "cell_type": "markdown",
   "metadata": {
    "id": "eDQPGM9nMKea"
   },
   "source": [
    "_**Note**: We decided to work with the **Replicase polyprotein 1ab** single-protein database, out of the two options._"
   ]
  },
  {
   "cell_type": "code",
   "execution_count": 40,
   "metadata": {
    "id": "ejWkjdhIMKeb"
   },
   "outputs": [],
   "source": [
    "# Selecting the target.\n",
    "\n",
    "selected_target = targets.target_chembl_id[6] "
   ]
  },
  {
   "cell_type": "code",
   "execution_count": 41,
   "metadata": {
    "id": "GzrVypnuMKed",
    "outputId": "9585c8ae-58df-4598-fc48-ca6f5c527e8b"
   },
   "outputs": [
    {
     "output_type": "execute_result",
     "data": {
      "text/plain": [
       "    activity_comment  activity_id activity_properties assay_chembl_id  \\\n",
       "0               None      1988091                  []    CHEMBL898907   \n",
       "1               None      1988092                  []    CHEMBL898907   \n",
       "2               None      1988093                  []    CHEMBL898907   \n",
       "3               None      1988094                  []    CHEMBL898907   \n",
       "4               None      1988095                  []    CHEMBL898907   \n",
       "..               ...          ...                 ...             ...   \n",
       "210             None     18548176                  []   CHEMBL4198706   \n",
       "211             None     18548177                  []   CHEMBL4198706   \n",
       "212             None     18548178                  []   CHEMBL4198706   \n",
       "213             None     18548179                  []   CHEMBL4198706   \n",
       "214             None     18548180                  []   CHEMBL4198706   \n",
       "\n",
       "                                     assay_description assay_type  \\\n",
       "0    Inhibition of SARS-CoV 3C-like protease by FRE...          B   \n",
       "1    Inhibition of SARS-CoV 3C-like protease by FRE...          B   \n",
       "2    Inhibition of SARS-CoV 3C-like protease by FRE...          B   \n",
       "3    Inhibition of SARS-CoV 3C-like protease by FRE...          B   \n",
       "4    Inhibition of SARS-CoV 3C-like protease by FRE...          B   \n",
       "..                                                 ...        ...   \n",
       "210  Inhibition of SARS coronavirus 3CL protease us...          B   \n",
       "211  Inhibition of SARS coronavirus 3CL protease us...          B   \n",
       "212  Inhibition of SARS coronavirus 3CL protease us...          B   \n",
       "213  Inhibition of SARS coronavirus 3CL protease us...          B   \n",
       "214  Inhibition of SARS coronavirus 3CL protease us...          B   \n",
       "\n",
       "    assay_variant_accession assay_variant_mutation bao_endpoint   bao_format  \\\n",
       "0                      None                   None  BAO_0000190  BAO_0000019   \n",
       "1                      None                   None  BAO_0000190  BAO_0000019   \n",
       "2                      None                   None  BAO_0000190  BAO_0000019   \n",
       "3                      None                   None  BAO_0000190  BAO_0000019   \n",
       "4                      None                   None  BAO_0000190  BAO_0000019   \n",
       "..                      ...                    ...          ...          ...   \n",
       "210                    None                   None  BAO_0000190  BAO_0000357   \n",
       "211                    None                   None  BAO_0000190  BAO_0000357   \n",
       "212                    None                   None  BAO_0000190  BAO_0000357   \n",
       "213                    None                   None  BAO_0000190  BAO_0000357   \n",
       "214                    None                   None  BAO_0000190  BAO_0000357   \n",
       "\n",
       "     ...   target_organism           target_pref_name target_tax_id  \\\n",
       "0    ...  SARS coronavirus  Replicase polyprotein 1ab        227859   \n",
       "1    ...  SARS coronavirus  Replicase polyprotein 1ab        227859   \n",
       "2    ...  SARS coronavirus  Replicase polyprotein 1ab        227859   \n",
       "3    ...  SARS coronavirus  Replicase polyprotein 1ab        227859   \n",
       "4    ...  SARS coronavirus  Replicase polyprotein 1ab        227859   \n",
       "..   ...               ...                        ...           ...   \n",
       "210  ...  SARS coronavirus  Replicase polyprotein 1ab        227859   \n",
       "211  ...  SARS coronavirus  Replicase polyprotein 1ab        227859   \n",
       "212  ...  SARS coronavirus  Replicase polyprotein 1ab        227859   \n",
       "213  ...  SARS coronavirus  Replicase polyprotein 1ab        227859   \n",
       "214  ...  SARS coronavirus  Replicase polyprotein 1ab        227859   \n",
       "\n",
       "    text_value  toid  type  units    uo_units upper_value  value  \n",
       "0         None  None  IC50     uM  UO_0000065        None  870.0  \n",
       "1         None  None  IC50     uM  UO_0000065        None  200.0  \n",
       "2         None  None  IC50     uM  UO_0000065        None  300.0  \n",
       "3         None  None  IC50     uM  UO_0000065        None   15.0  \n",
       "4         None  None  IC50     uM  UO_0000065        None   10.0  \n",
       "..         ...   ...   ...    ...         ...         ...    ...  \n",
       "210       None  None  IC50     uM  UO_0000065        None    4.3  \n",
       "211       None  None  IC50     uM  UO_0000065        None    5.5  \n",
       "212       None  None  IC50     uM  UO_0000065        None    4.1  \n",
       "213       None  None  IC50     uM  UO_0000065        None    3.2  \n",
       "214       None  None  IC50     uM  UO_0000065        None    8.8  \n",
       "\n",
       "[215 rows x 45 columns]"
      ],
      "text/html": "<div>\n<style scoped>\n    .dataframe tbody tr th:only-of-type {\n        vertical-align: middle;\n    }\n\n    .dataframe tbody tr th {\n        vertical-align: top;\n    }\n\n    .dataframe thead th {\n        text-align: right;\n    }\n</style>\n<table border=\"1\" class=\"dataframe\">\n  <thead>\n    <tr style=\"text-align: right;\">\n      <th></th>\n      <th>activity_comment</th>\n      <th>activity_id</th>\n      <th>activity_properties</th>\n      <th>assay_chembl_id</th>\n      <th>assay_description</th>\n      <th>assay_type</th>\n      <th>assay_variant_accession</th>\n      <th>assay_variant_mutation</th>\n      <th>bao_endpoint</th>\n      <th>bao_format</th>\n      <th>...</th>\n      <th>target_organism</th>\n      <th>target_pref_name</th>\n      <th>target_tax_id</th>\n      <th>text_value</th>\n      <th>toid</th>\n      <th>type</th>\n      <th>units</th>\n      <th>uo_units</th>\n      <th>upper_value</th>\n      <th>value</th>\n    </tr>\n  </thead>\n  <tbody>\n    <tr>\n      <th>0</th>\n      <td>None</td>\n      <td>1988091</td>\n      <td>[]</td>\n      <td>CHEMBL898907</td>\n      <td>Inhibition of SARS-CoV 3C-like protease by FRE...</td>\n      <td>B</td>\n      <td>None</td>\n      <td>None</td>\n      <td>BAO_0000190</td>\n      <td>BAO_0000019</td>\n      <td>...</td>\n      <td>SARS coronavirus</td>\n      <td>Replicase polyprotein 1ab</td>\n      <td>227859</td>\n      <td>None</td>\n      <td>None</td>\n      <td>IC50</td>\n      <td>uM</td>\n      <td>UO_0000065</td>\n      <td>None</td>\n      <td>870.0</td>\n    </tr>\n    <tr>\n      <th>1</th>\n      <td>None</td>\n      <td>1988092</td>\n      <td>[]</td>\n      <td>CHEMBL898907</td>\n      <td>Inhibition of SARS-CoV 3C-like protease by FRE...</td>\n      <td>B</td>\n      <td>None</td>\n      <td>None</td>\n      <td>BAO_0000190</td>\n      <td>BAO_0000019</td>\n      <td>...</td>\n      <td>SARS coronavirus</td>\n      <td>Replicase polyprotein 1ab</td>\n      <td>227859</td>\n      <td>None</td>\n      <td>None</td>\n      <td>IC50</td>\n      <td>uM</td>\n      <td>UO_0000065</td>\n      <td>None</td>\n      <td>200.0</td>\n    </tr>\n    <tr>\n      <th>2</th>\n      <td>None</td>\n      <td>1988093</td>\n      <td>[]</td>\n      <td>CHEMBL898907</td>\n      <td>Inhibition of SARS-CoV 3C-like protease by FRE...</td>\n      <td>B</td>\n      <td>None</td>\n      <td>None</td>\n      <td>BAO_0000190</td>\n      <td>BAO_0000019</td>\n      <td>...</td>\n      <td>SARS coronavirus</td>\n      <td>Replicase polyprotein 1ab</td>\n      <td>227859</td>\n      <td>None</td>\n      <td>None</td>\n      <td>IC50</td>\n      <td>uM</td>\n      <td>UO_0000065</td>\n      <td>None</td>\n      <td>300.0</td>\n    </tr>\n    <tr>\n      <th>3</th>\n      <td>None</td>\n      <td>1988094</td>\n      <td>[]</td>\n      <td>CHEMBL898907</td>\n      <td>Inhibition of SARS-CoV 3C-like protease by FRE...</td>\n      <td>B</td>\n      <td>None</td>\n      <td>None</td>\n      <td>BAO_0000190</td>\n      <td>BAO_0000019</td>\n      <td>...</td>\n      <td>SARS coronavirus</td>\n      <td>Replicase polyprotein 1ab</td>\n      <td>227859</td>\n      <td>None</td>\n      <td>None</td>\n      <td>IC50</td>\n      <td>uM</td>\n      <td>UO_0000065</td>\n      <td>None</td>\n      <td>15.0</td>\n    </tr>\n    <tr>\n      <th>4</th>\n      <td>None</td>\n      <td>1988095</td>\n      <td>[]</td>\n      <td>CHEMBL898907</td>\n      <td>Inhibition of SARS-CoV 3C-like protease by FRE...</td>\n      <td>B</td>\n      <td>None</td>\n      <td>None</td>\n      <td>BAO_0000190</td>\n      <td>BAO_0000019</td>\n      <td>...</td>\n      <td>SARS coronavirus</td>\n      <td>Replicase polyprotein 1ab</td>\n      <td>227859</td>\n      <td>None</td>\n      <td>None</td>\n      <td>IC50</td>\n      <td>uM</td>\n      <td>UO_0000065</td>\n      <td>None</td>\n      <td>10.0</td>\n    </tr>\n    <tr>\n      <th>...</th>\n      <td>...</td>\n      <td>...</td>\n      <td>...</td>\n      <td>...</td>\n      <td>...</td>\n      <td>...</td>\n      <td>...</td>\n      <td>...</td>\n      <td>...</td>\n      <td>...</td>\n      <td>...</td>\n      <td>...</td>\n      <td>...</td>\n      <td>...</td>\n      <td>...</td>\n      <td>...</td>\n      <td>...</td>\n      <td>...</td>\n      <td>...</td>\n      <td>...</td>\n      <td>...</td>\n    </tr>\n    <tr>\n      <th>210</th>\n      <td>None</td>\n      <td>18548176</td>\n      <td>[]</td>\n      <td>CHEMBL4198706</td>\n      <td>Inhibition of SARS coronavirus 3CL protease us...</td>\n      <td>B</td>\n      <td>None</td>\n      <td>None</td>\n      <td>BAO_0000190</td>\n      <td>BAO_0000357</td>\n      <td>...</td>\n      <td>SARS coronavirus</td>\n      <td>Replicase polyprotein 1ab</td>\n      <td>227859</td>\n      <td>None</td>\n      <td>None</td>\n      <td>IC50</td>\n      <td>uM</td>\n      <td>UO_0000065</td>\n      <td>None</td>\n      <td>4.3</td>\n    </tr>\n    <tr>\n      <th>211</th>\n      <td>None</td>\n      <td>18548177</td>\n      <td>[]</td>\n      <td>CHEMBL4198706</td>\n      <td>Inhibition of SARS coronavirus 3CL protease us...</td>\n      <td>B</td>\n      <td>None</td>\n      <td>None</td>\n      <td>BAO_0000190</td>\n      <td>BAO_0000357</td>\n      <td>...</td>\n      <td>SARS coronavirus</td>\n      <td>Replicase polyprotein 1ab</td>\n      <td>227859</td>\n      <td>None</td>\n      <td>None</td>\n      <td>IC50</td>\n      <td>uM</td>\n      <td>UO_0000065</td>\n      <td>None</td>\n      <td>5.5</td>\n    </tr>\n    <tr>\n      <th>212</th>\n      <td>None</td>\n      <td>18548178</td>\n      <td>[]</td>\n      <td>CHEMBL4198706</td>\n      <td>Inhibition of SARS coronavirus 3CL protease us...</td>\n      <td>B</td>\n      <td>None</td>\n      <td>None</td>\n      <td>BAO_0000190</td>\n      <td>BAO_0000357</td>\n      <td>...</td>\n      <td>SARS coronavirus</td>\n      <td>Replicase polyprotein 1ab</td>\n      <td>227859</td>\n      <td>None</td>\n      <td>None</td>\n      <td>IC50</td>\n      <td>uM</td>\n      <td>UO_0000065</td>\n      <td>None</td>\n      <td>4.1</td>\n    </tr>\n    <tr>\n      <th>213</th>\n      <td>None</td>\n      <td>18548179</td>\n      <td>[]</td>\n      <td>CHEMBL4198706</td>\n      <td>Inhibition of SARS coronavirus 3CL protease us...</td>\n      <td>B</td>\n      <td>None</td>\n      <td>None</td>\n      <td>BAO_0000190</td>\n      <td>BAO_0000357</td>\n      <td>...</td>\n      <td>SARS coronavirus</td>\n      <td>Replicase polyprotein 1ab</td>\n      <td>227859</td>\n      <td>None</td>\n      <td>None</td>\n      <td>IC50</td>\n      <td>uM</td>\n      <td>UO_0000065</td>\n      <td>None</td>\n      <td>3.2</td>\n    </tr>\n    <tr>\n      <th>214</th>\n      <td>None</td>\n      <td>18548180</td>\n      <td>[]</td>\n      <td>CHEMBL4198706</td>\n      <td>Inhibition of SARS coronavirus 3CL protease us...</td>\n      <td>B</td>\n      <td>None</td>\n      <td>None</td>\n      <td>BAO_0000190</td>\n      <td>BAO_0000357</td>\n      <td>...</td>\n      <td>SARS coronavirus</td>\n      <td>Replicase polyprotein 1ab</td>\n      <td>227859</td>\n      <td>None</td>\n      <td>None</td>\n      <td>IC50</td>\n      <td>uM</td>\n      <td>UO_0000065</td>\n      <td>None</td>\n      <td>8.8</td>\n    </tr>\n  </tbody>\n</table>\n<p>215 rows × 45 columns</p>\n</div>"
     },
     "metadata": {},
     "execution_count": 41
    }
   ],
   "source": [
    "# Filtering out only the IC50 type molecules from the selected target (SARS Coronavirus Replicase polyprotein 1ab).\n",
    "\n",
    "activity = new_client.activity\n",
    "res = activity.filter(target_chembl_id=selected_target).filter(standard_type=\"IC50\")\n",
    "df = pd.DataFrame.from_dict(res)\n",
    "df"
   ]
  },
  {
   "cell_type": "code",
   "execution_count": 42,
   "metadata": {
    "id": "gHhu1zM5MKeg",
    "outputId": "2703d88a-3d73-49ad-c7c2-e511bce20d3c"
   },
   "outputs": [
    {
     "output_type": "execute_result",
     "data": {
      "text/plain": [
       "    activity_comment  activity_id activity_properties assay_chembl_id  \\\n",
       "0               None      1988091                  []    CHEMBL898907   \n",
       "1               None      1988092                  []    CHEMBL898907   \n",
       "2               None      1988093                  []    CHEMBL898907   \n",
       "3               None      1988094                  []    CHEMBL898907   \n",
       "4               None      1988095                  []    CHEMBL898907   \n",
       "..               ...          ...                 ...             ...   \n",
       "210             None     18548176                  []   CHEMBL4198706   \n",
       "211             None     18548177                  []   CHEMBL4198706   \n",
       "212             None     18548178                  []   CHEMBL4198706   \n",
       "213             None     18548179                  []   CHEMBL4198706   \n",
       "214             None     18548180                  []   CHEMBL4198706   \n",
       "\n",
       "                                     assay_description assay_type  \\\n",
       "0    Inhibition of SARS-CoV 3C-like protease by FRE...          B   \n",
       "1    Inhibition of SARS-CoV 3C-like protease by FRE...          B   \n",
       "2    Inhibition of SARS-CoV 3C-like protease by FRE...          B   \n",
       "3    Inhibition of SARS-CoV 3C-like protease by FRE...          B   \n",
       "4    Inhibition of SARS-CoV 3C-like protease by FRE...          B   \n",
       "..                                                 ...        ...   \n",
       "210  Inhibition of SARS coronavirus 3CL protease us...          B   \n",
       "211  Inhibition of SARS coronavirus 3CL protease us...          B   \n",
       "212  Inhibition of SARS coronavirus 3CL protease us...          B   \n",
       "213  Inhibition of SARS coronavirus 3CL protease us...          B   \n",
       "214  Inhibition of SARS coronavirus 3CL protease us...          B   \n",
       "\n",
       "    assay_variant_accession assay_variant_mutation bao_endpoint   bao_format  \\\n",
       "0                      None                   None  BAO_0000190  BAO_0000019   \n",
       "1                      None                   None  BAO_0000190  BAO_0000019   \n",
       "2                      None                   None  BAO_0000190  BAO_0000019   \n",
       "3                      None                   None  BAO_0000190  BAO_0000019   \n",
       "4                      None                   None  BAO_0000190  BAO_0000019   \n",
       "..                      ...                    ...          ...          ...   \n",
       "210                    None                   None  BAO_0000190  BAO_0000357   \n",
       "211                    None                   None  BAO_0000190  BAO_0000357   \n",
       "212                    None                   None  BAO_0000190  BAO_0000357   \n",
       "213                    None                   None  BAO_0000190  BAO_0000357   \n",
       "214                    None                   None  BAO_0000190  BAO_0000357   \n",
       "\n",
       "     ...   target_organism           target_pref_name target_tax_id  \\\n",
       "0    ...  SARS coronavirus  Replicase polyprotein 1ab        227859   \n",
       "1    ...  SARS coronavirus  Replicase polyprotein 1ab        227859   \n",
       "2    ...  SARS coronavirus  Replicase polyprotein 1ab        227859   \n",
       "3    ...  SARS coronavirus  Replicase polyprotein 1ab        227859   \n",
       "4    ...  SARS coronavirus  Replicase polyprotein 1ab        227859   \n",
       "..   ...               ...                        ...           ...   \n",
       "210  ...  SARS coronavirus  Replicase polyprotein 1ab        227859   \n",
       "211  ...  SARS coronavirus  Replicase polyprotein 1ab        227859   \n",
       "212  ...  SARS coronavirus  Replicase polyprotein 1ab        227859   \n",
       "213  ...  SARS coronavirus  Replicase polyprotein 1ab        227859   \n",
       "214  ...  SARS coronavirus  Replicase polyprotein 1ab        227859   \n",
       "\n",
       "    text_value  toid  type  units    uo_units upper_value  value  \n",
       "0         None  None  IC50     uM  UO_0000065        None  870.0  \n",
       "1         None  None  IC50     uM  UO_0000065        None  200.0  \n",
       "2         None  None  IC50     uM  UO_0000065        None  300.0  \n",
       "3         None  None  IC50     uM  UO_0000065        None   15.0  \n",
       "4         None  None  IC50     uM  UO_0000065        None   10.0  \n",
       "..         ...   ...   ...    ...         ...         ...    ...  \n",
       "210       None  None  IC50     uM  UO_0000065        None    4.3  \n",
       "211       None  None  IC50     uM  UO_0000065        None    5.5  \n",
       "212       None  None  IC50     uM  UO_0000065        None    4.1  \n",
       "213       None  None  IC50     uM  UO_0000065        None    3.2  \n",
       "214       None  None  IC50     uM  UO_0000065        None    8.8  \n",
       "\n",
       "[214 rows x 45 columns]"
      ],
      "text/html": "<div>\n<style scoped>\n    .dataframe tbody tr th:only-of-type {\n        vertical-align: middle;\n    }\n\n    .dataframe tbody tr th {\n        vertical-align: top;\n    }\n\n    .dataframe thead th {\n        text-align: right;\n    }\n</style>\n<table border=\"1\" class=\"dataframe\">\n  <thead>\n    <tr style=\"text-align: right;\">\n      <th></th>\n      <th>activity_comment</th>\n      <th>activity_id</th>\n      <th>activity_properties</th>\n      <th>assay_chembl_id</th>\n      <th>assay_description</th>\n      <th>assay_type</th>\n      <th>assay_variant_accession</th>\n      <th>assay_variant_mutation</th>\n      <th>bao_endpoint</th>\n      <th>bao_format</th>\n      <th>...</th>\n      <th>target_organism</th>\n      <th>target_pref_name</th>\n      <th>target_tax_id</th>\n      <th>text_value</th>\n      <th>toid</th>\n      <th>type</th>\n      <th>units</th>\n      <th>uo_units</th>\n      <th>upper_value</th>\n      <th>value</th>\n    </tr>\n  </thead>\n  <tbody>\n    <tr>\n      <th>0</th>\n      <td>None</td>\n      <td>1988091</td>\n      <td>[]</td>\n      <td>CHEMBL898907</td>\n      <td>Inhibition of SARS-CoV 3C-like protease by FRE...</td>\n      <td>B</td>\n      <td>None</td>\n      <td>None</td>\n      <td>BAO_0000190</td>\n      <td>BAO_0000019</td>\n      <td>...</td>\n      <td>SARS coronavirus</td>\n      <td>Replicase polyprotein 1ab</td>\n      <td>227859</td>\n      <td>None</td>\n      <td>None</td>\n      <td>IC50</td>\n      <td>uM</td>\n      <td>UO_0000065</td>\n      <td>None</td>\n      <td>870.0</td>\n    </tr>\n    <tr>\n      <th>1</th>\n      <td>None</td>\n      <td>1988092</td>\n      <td>[]</td>\n      <td>CHEMBL898907</td>\n      <td>Inhibition of SARS-CoV 3C-like protease by FRE...</td>\n      <td>B</td>\n      <td>None</td>\n      <td>None</td>\n      <td>BAO_0000190</td>\n      <td>BAO_0000019</td>\n      <td>...</td>\n      <td>SARS coronavirus</td>\n      <td>Replicase polyprotein 1ab</td>\n      <td>227859</td>\n      <td>None</td>\n      <td>None</td>\n      <td>IC50</td>\n      <td>uM</td>\n      <td>UO_0000065</td>\n      <td>None</td>\n      <td>200.0</td>\n    </tr>\n    <tr>\n      <th>2</th>\n      <td>None</td>\n      <td>1988093</td>\n      <td>[]</td>\n      <td>CHEMBL898907</td>\n      <td>Inhibition of SARS-CoV 3C-like protease by FRE...</td>\n      <td>B</td>\n      <td>None</td>\n      <td>None</td>\n      <td>BAO_0000190</td>\n      <td>BAO_0000019</td>\n      <td>...</td>\n      <td>SARS coronavirus</td>\n      <td>Replicase polyprotein 1ab</td>\n      <td>227859</td>\n      <td>None</td>\n      <td>None</td>\n      <td>IC50</td>\n      <td>uM</td>\n      <td>UO_0000065</td>\n      <td>None</td>\n      <td>300.0</td>\n    </tr>\n    <tr>\n      <th>3</th>\n      <td>None</td>\n      <td>1988094</td>\n      <td>[]</td>\n      <td>CHEMBL898907</td>\n      <td>Inhibition of SARS-CoV 3C-like protease by FRE...</td>\n      <td>B</td>\n      <td>None</td>\n      <td>None</td>\n      <td>BAO_0000190</td>\n      <td>BAO_0000019</td>\n      <td>...</td>\n      <td>SARS coronavirus</td>\n      <td>Replicase polyprotein 1ab</td>\n      <td>227859</td>\n      <td>None</td>\n      <td>None</td>\n      <td>IC50</td>\n      <td>uM</td>\n      <td>UO_0000065</td>\n      <td>None</td>\n      <td>15.0</td>\n    </tr>\n    <tr>\n      <th>4</th>\n      <td>None</td>\n      <td>1988095</td>\n      <td>[]</td>\n      <td>CHEMBL898907</td>\n      <td>Inhibition of SARS-CoV 3C-like protease by FRE...</td>\n      <td>B</td>\n      <td>None</td>\n      <td>None</td>\n      <td>BAO_0000190</td>\n      <td>BAO_0000019</td>\n      <td>...</td>\n      <td>SARS coronavirus</td>\n      <td>Replicase polyprotein 1ab</td>\n      <td>227859</td>\n      <td>None</td>\n      <td>None</td>\n      <td>IC50</td>\n      <td>uM</td>\n      <td>UO_0000065</td>\n      <td>None</td>\n      <td>10.0</td>\n    </tr>\n    <tr>\n      <th>...</th>\n      <td>...</td>\n      <td>...</td>\n      <td>...</td>\n      <td>...</td>\n      <td>...</td>\n      <td>...</td>\n      <td>...</td>\n      <td>...</td>\n      <td>...</td>\n      <td>...</td>\n      <td>...</td>\n      <td>...</td>\n      <td>...</td>\n      <td>...</td>\n      <td>...</td>\n      <td>...</td>\n      <td>...</td>\n      <td>...</td>\n      <td>...</td>\n      <td>...</td>\n      <td>...</td>\n    </tr>\n    <tr>\n      <th>210</th>\n      <td>None</td>\n      <td>18548176</td>\n      <td>[]</td>\n      <td>CHEMBL4198706</td>\n      <td>Inhibition of SARS coronavirus 3CL protease us...</td>\n      <td>B</td>\n      <td>None</td>\n      <td>None</td>\n      <td>BAO_0000190</td>\n      <td>BAO_0000357</td>\n      <td>...</td>\n      <td>SARS coronavirus</td>\n      <td>Replicase polyprotein 1ab</td>\n      <td>227859</td>\n      <td>None</td>\n      <td>None</td>\n      <td>IC50</td>\n      <td>uM</td>\n      <td>UO_0000065</td>\n      <td>None</td>\n      <td>4.3</td>\n    </tr>\n    <tr>\n      <th>211</th>\n      <td>None</td>\n      <td>18548177</td>\n      <td>[]</td>\n      <td>CHEMBL4198706</td>\n      <td>Inhibition of SARS coronavirus 3CL protease us...</td>\n      <td>B</td>\n      <td>None</td>\n      <td>None</td>\n      <td>BAO_0000190</td>\n      <td>BAO_0000357</td>\n      <td>...</td>\n      <td>SARS coronavirus</td>\n      <td>Replicase polyprotein 1ab</td>\n      <td>227859</td>\n      <td>None</td>\n      <td>None</td>\n      <td>IC50</td>\n      <td>uM</td>\n      <td>UO_0000065</td>\n      <td>None</td>\n      <td>5.5</td>\n    </tr>\n    <tr>\n      <th>212</th>\n      <td>None</td>\n      <td>18548178</td>\n      <td>[]</td>\n      <td>CHEMBL4198706</td>\n      <td>Inhibition of SARS coronavirus 3CL protease us...</td>\n      <td>B</td>\n      <td>None</td>\n      <td>None</td>\n      <td>BAO_0000190</td>\n      <td>BAO_0000357</td>\n      <td>...</td>\n      <td>SARS coronavirus</td>\n      <td>Replicase polyprotein 1ab</td>\n      <td>227859</td>\n      <td>None</td>\n      <td>None</td>\n      <td>IC50</td>\n      <td>uM</td>\n      <td>UO_0000065</td>\n      <td>None</td>\n      <td>4.1</td>\n    </tr>\n    <tr>\n      <th>213</th>\n      <td>None</td>\n      <td>18548179</td>\n      <td>[]</td>\n      <td>CHEMBL4198706</td>\n      <td>Inhibition of SARS coronavirus 3CL protease us...</td>\n      <td>B</td>\n      <td>None</td>\n      <td>None</td>\n      <td>BAO_0000190</td>\n      <td>BAO_0000357</td>\n      <td>...</td>\n      <td>SARS coronavirus</td>\n      <td>Replicase polyprotein 1ab</td>\n      <td>227859</td>\n      <td>None</td>\n      <td>None</td>\n      <td>IC50</td>\n      <td>uM</td>\n      <td>UO_0000065</td>\n      <td>None</td>\n      <td>3.2</td>\n    </tr>\n    <tr>\n      <th>214</th>\n      <td>None</td>\n      <td>18548180</td>\n      <td>[]</td>\n      <td>CHEMBL4198706</td>\n      <td>Inhibition of SARS coronavirus 3CL protease us...</td>\n      <td>B</td>\n      <td>None</td>\n      <td>None</td>\n      <td>BAO_0000190</td>\n      <td>BAO_0000357</td>\n      <td>...</td>\n      <td>SARS coronavirus</td>\n      <td>Replicase polyprotein 1ab</td>\n      <td>227859</td>\n      <td>None</td>\n      <td>None</td>\n      <td>IC50</td>\n      <td>uM</td>\n      <td>UO_0000065</td>\n      <td>None</td>\n      <td>8.8</td>\n    </tr>\n  </tbody>\n</table>\n<p>214 rows × 45 columns</p>\n</div>"
     },
     "metadata": {},
     "execution_count": 42
    }
   ],
   "source": [
    "# Removing all the chemical compound entries where the IC50 value is missing.\n",
    "\n",
    "df2 = df[df.standard_value.notna()]\n",
    "df2"
   ]
  },
  {
   "cell_type": "code",
   "execution_count": 43,
   "metadata": {
    "id": "Aok114OEMKei"
   },
   "outputs": [],
   "source": [
    "# Re-indexing the data frame after removal of missing data rows.\n",
    "\n",
    "df2.index=range(len(df2))"
   ]
  },
  {
   "cell_type": "code",
   "execution_count": 44,
   "metadata": {
    "id": "D3MZNgwnMKek"
   },
   "outputs": [],
   "source": [
    "# Saving unprocessed,filtered raw data.\n",
    "\n",
    "df2.to_csv('Results\\Data_Replicase polyprotein 1ab_Unprocessed.csv', index=False)"
   ]
  },
  {
   "cell_type": "markdown",
   "metadata": {
    "id": "9ajRsuf4MKen"
   },
   "source": [
    "### Part 2: Data Pre-processing"
   ]
  },
  {
   "cell_type": "code",
   "execution_count": 45,
   "metadata": {
    "id": "PSjnP3hiMKeo"
   },
   "outputs": [],
   "source": [
    "# Classification of Bioactivity of compounds (inactive;active;intermediate) by IC50 value.\n",
    "# Note that the Bioactivity Data of each Compounds is in the IC50 unit.\n",
    "\n",
    "bioactivity_class = []\n",
    "for i in df2.standard_value:\n",
    "  if float(i) >= 10000:\n",
    "    bioactivity_class.append(\"inactive\")\n",
    "  elif float(i) <= 1000:\n",
    "    bioactivity_class.append(\"active\")\n",
    "  elif (float(i)>1000) & (float(i)<10000):\n",
    "    bioactivity_class.append(\"intermediate\")"
   ]
  },
  {
   "cell_type": "code",
   "execution_count": 46,
   "metadata": {
    "id": "HPhCnBnFMKeq",
    "outputId": "322efa57-0551-41e0-e229-91de7291f980"
   },
   "outputs": [
    {
     "output_type": "execute_result",
     "data": {
      "text/plain": [
       "    molecule_chembl_id                                   canonical_smiles  \\\n",
       "0         CHEMBL194398  CCOC(=O)/C=C/[C@H](C[C@@H]1CCNC1=O)NC(=O)[C@@H...   \n",
       "1         CHEMBL393608  CCOC(=O)/C=C/[C@H](C[C@@H]1CCNC1=O)NC(=O)[C@H]...   \n",
       "2         CHEMBL238216  CCOC(=O)/C=C/[C@H](C[C@@H]1CCNC1=O)NC(=O)[C@H]...   \n",
       "3         CHEMBL235873  CCOC(=O)/C=C/[C@H](C[C@@H]1CCNC1=O)NC(=O)[C@H]...   \n",
       "4         CHEMBL397154  CCOC(=O)/C=C/[C@H](C[C@@H]1CCNC1=O)NC(=O)[C@H]...   \n",
       "..                 ...                                                ...   \n",
       "209      CHEMBL4208764  CC(C)C[C@H](NC(=O)OC1(Cc2ccccc2)CCN(S(C)(=O)=O...   \n",
       "210      CHEMBL4212620  CCC1(OC(=O)N[C@@H](CC(C)C)C(=O)N[C@H](C=O)C[C@...   \n",
       "211      CHEMBL4216101  CCC1(OC(=O)N[C@@H](CC(C)C)C(=O)N[C@@H](C[C@@H]...   \n",
       "212      CHEMBL4217568  CCOC(=O)N1CCC(OC(=O)N[C@@H](CC(C)C)C(=O)N[C@H]...   \n",
       "213      CHEMBL4204431  CCOC(=O)N1CCC(OC(=O)N[C@@H](CC(C)C)C(=O)N[C@@H...   \n",
       "\n",
       "    standard_value bioactivity_class  value  \n",
       "0         870000.0          inactive  870.0  \n",
       "1         200000.0          inactive  200.0  \n",
       "2         300000.0          inactive  300.0  \n",
       "3          15000.0          inactive   15.0  \n",
       "4          10000.0          inactive   10.0  \n",
       "..             ...               ...    ...  \n",
       "209         4300.0      intermediate    4.3  \n",
       "210         5500.0      intermediate    5.5  \n",
       "211         4100.0      intermediate    4.1  \n",
       "212         3200.0      intermediate    3.2  \n",
       "213         8800.0      intermediate    8.8  \n",
       "\n",
       "[214 rows x 5 columns]"
      ],
      "text/html": "<div>\n<style scoped>\n    .dataframe tbody tr th:only-of-type {\n        vertical-align: middle;\n    }\n\n    .dataframe tbody tr th {\n        vertical-align: top;\n    }\n\n    .dataframe thead th {\n        text-align: right;\n    }\n</style>\n<table border=\"1\" class=\"dataframe\">\n  <thead>\n    <tr style=\"text-align: right;\">\n      <th></th>\n      <th>molecule_chembl_id</th>\n      <th>canonical_smiles</th>\n      <th>standard_value</th>\n      <th>bioactivity_class</th>\n      <th>value</th>\n    </tr>\n  </thead>\n  <tbody>\n    <tr>\n      <th>0</th>\n      <td>CHEMBL194398</td>\n      <td>CCOC(=O)/C=C/[C@H](C[C@@H]1CCNC1=O)NC(=O)[C@@H...</td>\n      <td>870000.0</td>\n      <td>inactive</td>\n      <td>870.0</td>\n    </tr>\n    <tr>\n      <th>1</th>\n      <td>CHEMBL393608</td>\n      <td>CCOC(=O)/C=C/[C@H](C[C@@H]1CCNC1=O)NC(=O)[C@H]...</td>\n      <td>200000.0</td>\n      <td>inactive</td>\n      <td>200.0</td>\n    </tr>\n    <tr>\n      <th>2</th>\n      <td>CHEMBL238216</td>\n      <td>CCOC(=O)/C=C/[C@H](C[C@@H]1CCNC1=O)NC(=O)[C@H]...</td>\n      <td>300000.0</td>\n      <td>inactive</td>\n      <td>300.0</td>\n    </tr>\n    <tr>\n      <th>3</th>\n      <td>CHEMBL235873</td>\n      <td>CCOC(=O)/C=C/[C@H](C[C@@H]1CCNC1=O)NC(=O)[C@H]...</td>\n      <td>15000.0</td>\n      <td>inactive</td>\n      <td>15.0</td>\n    </tr>\n    <tr>\n      <th>4</th>\n      <td>CHEMBL397154</td>\n      <td>CCOC(=O)/C=C/[C@H](C[C@@H]1CCNC1=O)NC(=O)[C@H]...</td>\n      <td>10000.0</td>\n      <td>inactive</td>\n      <td>10.0</td>\n    </tr>\n    <tr>\n      <th>...</th>\n      <td>...</td>\n      <td>...</td>\n      <td>...</td>\n      <td>...</td>\n      <td>...</td>\n    </tr>\n    <tr>\n      <th>209</th>\n      <td>CHEMBL4208764</td>\n      <td>CC(C)C[C@H](NC(=O)OC1(Cc2ccccc2)CCN(S(C)(=O)=O...</td>\n      <td>4300.0</td>\n      <td>intermediate</td>\n      <td>4.3</td>\n    </tr>\n    <tr>\n      <th>210</th>\n      <td>CHEMBL4212620</td>\n      <td>CCC1(OC(=O)N[C@@H](CC(C)C)C(=O)N[C@H](C=O)C[C@...</td>\n      <td>5500.0</td>\n      <td>intermediate</td>\n      <td>5.5</td>\n    </tr>\n    <tr>\n      <th>211</th>\n      <td>CHEMBL4216101</td>\n      <td>CCC1(OC(=O)N[C@@H](CC(C)C)C(=O)N[C@@H](C[C@@H]...</td>\n      <td>4100.0</td>\n      <td>intermediate</td>\n      <td>4.1</td>\n    </tr>\n    <tr>\n      <th>212</th>\n      <td>CHEMBL4217568</td>\n      <td>CCOC(=O)N1CCC(OC(=O)N[C@@H](CC(C)C)C(=O)N[C@H]...</td>\n      <td>3200.0</td>\n      <td>intermediate</td>\n      <td>3.2</td>\n    </tr>\n    <tr>\n      <th>213</th>\n      <td>CHEMBL4204431</td>\n      <td>CCOC(=O)N1CCC(OC(=O)N[C@@H](CC(C)C)C(=O)N[C@@H...</td>\n      <td>8800.0</td>\n      <td>intermediate</td>\n      <td>8.8</td>\n    </tr>\n  </tbody>\n</table>\n<p>214 rows × 5 columns</p>\n</div>"
     },
     "metadata": {},
     "execution_count": 46
    }
   ],
   "source": [
    "# Combining necessary data columns needed for descriptors and model making.\n",
    "\n",
    "bioactivity_class = pd.Series(bioactivity_class, name='bioactivity_class')\n",
    "df2 = pd.concat([df2, bioactivity_class], axis=1)\n",
    "selection = ['molecule_chembl_id','canonical_smiles','standard_value','bioactivity_class','value']\n",
    "df3 = df2[selection]\n",
    "df3"
   ]
  },
  {
   "cell_type": "code",
   "execution_count": 47,
   "metadata": {
    "id": "8vH8C0n-MKes"
   },
   "outputs": [],
   "source": [
    "# Saving pre-processed data.\n",
    "\n",
    "df3.to_csv('Results\\Data_Replicase polyprotein 1ab_Processed.csv', index=False)"
   ]
  },
  {
   "cell_type": "markdown",
   "metadata": {
    "id": "3Gn9zd7GMKeu"
   },
   "source": [
    "### Part 3: Making and adding Data Descriptors"
   ]
  },
  {
   "cell_type": "code",
   "execution_count": 48,
   "metadata": {
    "id": "SUIWzuH7MKev"
   },
   "outputs": [],
   "source": [
    "# Importing rdkit to make the descriptors from SMILES of each compound.\n",
    "\n",
    "import numpy as np\n",
    "from rdkit import Chem\n",
    "from rdkit.Chem import Descriptors, Lipinski"
   ]
  },
  {
   "cell_type": "code",
   "execution_count": 49,
   "metadata": {
    "id": "_zL4dsqVMKex"
   },
   "outputs": [],
   "source": [
    "# Defining a function to find relevant descriptors as given by the Lipinski's Rule of Five, \n",
    "# These descriptors are the global factors which will determine the drug_likeness of a compound.\n",
    "# The function takes the SMILES notation of each compound as the input.\n",
    "# More on this is written in the \"Project_Description.pdf\" file in the root directory.\n",
    "\n",
    "def lipinski(smiles, verbose=False):\n",
    "\n",
    "    moldata= []\n",
    "    for elem in smiles:\n",
    "        mol=Chem.MolFromSmiles(elem) \n",
    "        moldata.append(mol)\n",
    "       \n",
    "    baseData= np.arange(1,1)\n",
    "    i=0  \n",
    "    for mol in moldata:        \n",
    "       \n",
    "        desc_MolWt = Descriptors.MolWt(mol)\n",
    "        desc_MolLogP = Descriptors.MolLogP(mol)\n",
    "        desc_TPSA = Descriptors.TPSA(mol)\n",
    "        desc_NumHDonors = Lipinski.NumHDonors(mol)\n",
    "        desc_NumHAcceptors = Lipinski.NumHAcceptors(mol)\n",
    "           \n",
    "        row = np.array([desc_MolWt,\n",
    "                        desc_MolLogP,\n",
    "                        desc_TPSA,\n",
    "                        desc_NumHDonors,\n",
    "                        desc_NumHAcceptors])   \n",
    "    \n",
    "        if(i==0):\n",
    "            baseData=row\n",
    "        else:\n",
    "            baseData=np.vstack([baseData, row])\n",
    "        i=i+1      \n",
    "    \n",
    "    columnNames=[\"MW\",\"ALogP\",\"PSA\",\"NumHDonors\",\"NumHAcceptors\"] # The Descriptors for the compounds, that we are choosing.\n",
    "    descriptors = pd.DataFrame(data=baseData,columns=columnNames)\n",
    "    \n",
    "    return descriptors\n",
    "\n",
    "# Note:Although TPSA is not exactly a Lipinski Descriptor, we considered TPSA(aka PSA) too as it was mentioned by Parthiban Sir."
   ]
  },
  {
   "cell_type": "code",
   "execution_count": 50,
   "metadata": {
    "id": "jdaXafG2MKez"
   },
   "outputs": [
    {
     "output_type": "execute_result",
     "data": {
      "text/plain": [
       "          MW    ALogP     PSA  NumHDonors  NumHAcceptors\n",
       "0    580.682  2.68582  156.70         3.0            8.0\n",
       "1    547.653  1.39862  168.73         4.0            8.0\n",
       "2    581.670  1.59522  168.73         4.0            8.0\n",
       "3    659.781  0.87060  201.26         6.0            9.0\n",
       "4    625.764  0.67400  201.26         6.0            9.0\n",
       "..       ...      ...     ...         ...            ...\n",
       "209  668.767 -2.95720  211.34         4.0           10.0\n",
       "210  524.659  2.51690  143.14         3.0            7.0\n",
       "211  628.721 -1.81440  203.50         4.0           10.0\n",
       "212  468.551  0.95810  143.14         3.0            7.0\n",
       "213  572.613 -3.37320  203.50         4.0           10.0\n",
       "\n",
       "[214 rows x 5 columns]"
      ],
      "text/html": "<div>\n<style scoped>\n    .dataframe tbody tr th:only-of-type {\n        vertical-align: middle;\n    }\n\n    .dataframe tbody tr th {\n        vertical-align: top;\n    }\n\n    .dataframe thead th {\n        text-align: right;\n    }\n</style>\n<table border=\"1\" class=\"dataframe\">\n  <thead>\n    <tr style=\"text-align: right;\">\n      <th></th>\n      <th>MW</th>\n      <th>ALogP</th>\n      <th>PSA</th>\n      <th>NumHDonors</th>\n      <th>NumHAcceptors</th>\n    </tr>\n  </thead>\n  <tbody>\n    <tr>\n      <th>0</th>\n      <td>580.682</td>\n      <td>2.68582</td>\n      <td>156.70</td>\n      <td>3.0</td>\n      <td>8.0</td>\n    </tr>\n    <tr>\n      <th>1</th>\n      <td>547.653</td>\n      <td>1.39862</td>\n      <td>168.73</td>\n      <td>4.0</td>\n      <td>8.0</td>\n    </tr>\n    <tr>\n      <th>2</th>\n      <td>581.670</td>\n      <td>1.59522</td>\n      <td>168.73</td>\n      <td>4.0</td>\n      <td>8.0</td>\n    </tr>\n    <tr>\n      <th>3</th>\n      <td>659.781</td>\n      <td>0.87060</td>\n      <td>201.26</td>\n      <td>6.0</td>\n      <td>9.0</td>\n    </tr>\n    <tr>\n      <th>4</th>\n      <td>625.764</td>\n      <td>0.67400</td>\n      <td>201.26</td>\n      <td>6.0</td>\n      <td>9.0</td>\n    </tr>\n    <tr>\n      <th>...</th>\n      <td>...</td>\n      <td>...</td>\n      <td>...</td>\n      <td>...</td>\n      <td>...</td>\n    </tr>\n    <tr>\n      <th>209</th>\n      <td>668.767</td>\n      <td>-2.95720</td>\n      <td>211.34</td>\n      <td>4.0</td>\n      <td>10.0</td>\n    </tr>\n    <tr>\n      <th>210</th>\n      <td>524.659</td>\n      <td>2.51690</td>\n      <td>143.14</td>\n      <td>3.0</td>\n      <td>7.0</td>\n    </tr>\n    <tr>\n      <th>211</th>\n      <td>628.721</td>\n      <td>-1.81440</td>\n      <td>203.50</td>\n      <td>4.0</td>\n      <td>10.0</td>\n    </tr>\n    <tr>\n      <th>212</th>\n      <td>468.551</td>\n      <td>0.95810</td>\n      <td>143.14</td>\n      <td>3.0</td>\n      <td>7.0</td>\n    </tr>\n    <tr>\n      <th>213</th>\n      <td>572.613</td>\n      <td>-3.37320</td>\n      <td>203.50</td>\n      <td>4.0</td>\n      <td>10.0</td>\n    </tr>\n  </tbody>\n</table>\n<p>214 rows × 5 columns</p>\n</div>"
     },
     "metadata": {},
     "execution_count": 50
    }
   ],
   "source": [
    "# Making the dataframe of descriptors for the pre-processed data (descriptors are found for our data, using \n",
    "# the lipinski() function above).\n",
    "\n",
    "df_lipinski = lipinski(df3.canonical_smiles)\n",
    "df_lipinski"
   ]
  },
  {
   "cell_type": "code",
   "execution_count": 51,
   "metadata": {
    "id": "GSGC7l1mMKe4"
   },
   "outputs": [
    {
     "output_type": "execute_result",
     "data": {
      "text/plain": [
       "    molecule_chembl_id                                   canonical_smiles  \\\n",
       "0         CHEMBL194398  CCOC(=O)/C=C/[C@H](C[C@@H]1CCNC1=O)NC(=O)[C@@H...   \n",
       "1         CHEMBL393608  CCOC(=O)/C=C/[C@H](C[C@@H]1CCNC1=O)NC(=O)[C@H]...   \n",
       "2         CHEMBL238216  CCOC(=O)/C=C/[C@H](C[C@@H]1CCNC1=O)NC(=O)[C@H]...   \n",
       "3         CHEMBL235873  CCOC(=O)/C=C/[C@H](C[C@@H]1CCNC1=O)NC(=O)[C@H]...   \n",
       "4         CHEMBL397154  CCOC(=O)/C=C/[C@H](C[C@@H]1CCNC1=O)NC(=O)[C@H]...   \n",
       "..                 ...                                                ...   \n",
       "209      CHEMBL4208764  CC(C)C[C@H](NC(=O)OC1(Cc2ccccc2)CCN(S(C)(=O)=O...   \n",
       "210      CHEMBL4212620  CCC1(OC(=O)N[C@@H](CC(C)C)C(=O)N[C@H](C=O)C[C@...   \n",
       "211      CHEMBL4216101  CCC1(OC(=O)N[C@@H](CC(C)C)C(=O)N[C@@H](C[C@@H]...   \n",
       "212      CHEMBL4217568  CCOC(=O)N1CCC(OC(=O)N[C@@H](CC(C)C)C(=O)N[C@H]...   \n",
       "213      CHEMBL4204431  CCOC(=O)N1CCC(OC(=O)N[C@@H](CC(C)C)C(=O)N[C@@H...   \n",
       "\n",
       "    standard_value bioactivity_class  value       MW    ALogP     PSA  \\\n",
       "0         870000.0          inactive  870.0  580.682  2.68582  156.70   \n",
       "1         200000.0          inactive  200.0  547.653  1.39862  168.73   \n",
       "2         300000.0          inactive  300.0  581.670  1.59522  168.73   \n",
       "3          15000.0          inactive   15.0  659.781  0.87060  201.26   \n",
       "4          10000.0          inactive   10.0  625.764  0.67400  201.26   \n",
       "..             ...               ...    ...      ...      ...     ...   \n",
       "209         4300.0      intermediate    4.3  668.767 -2.95720  211.34   \n",
       "210         5500.0      intermediate    5.5  524.659  2.51690  143.14   \n",
       "211         4100.0      intermediate    4.1  628.721 -1.81440  203.50   \n",
       "212         3200.0      intermediate    3.2  468.551  0.95810  143.14   \n",
       "213         8800.0      intermediate    8.8  572.613 -3.37320  203.50   \n",
       "\n",
       "     NumHDonors  NumHAcceptors  \n",
       "0           3.0            8.0  \n",
       "1           4.0            8.0  \n",
       "2           4.0            8.0  \n",
       "3           6.0            9.0  \n",
       "4           6.0            9.0  \n",
       "..          ...            ...  \n",
       "209         4.0           10.0  \n",
       "210         3.0            7.0  \n",
       "211         4.0           10.0  \n",
       "212         3.0            7.0  \n",
       "213         4.0           10.0  \n",
       "\n",
       "[214 rows x 10 columns]"
      ],
      "text/html": "<div>\n<style scoped>\n    .dataframe tbody tr th:only-of-type {\n        vertical-align: middle;\n    }\n\n    .dataframe tbody tr th {\n        vertical-align: top;\n    }\n\n    .dataframe thead th {\n        text-align: right;\n    }\n</style>\n<table border=\"1\" class=\"dataframe\">\n  <thead>\n    <tr style=\"text-align: right;\">\n      <th></th>\n      <th>molecule_chembl_id</th>\n      <th>canonical_smiles</th>\n      <th>standard_value</th>\n      <th>bioactivity_class</th>\n      <th>value</th>\n      <th>MW</th>\n      <th>ALogP</th>\n      <th>PSA</th>\n      <th>NumHDonors</th>\n      <th>NumHAcceptors</th>\n    </tr>\n  </thead>\n  <tbody>\n    <tr>\n      <th>0</th>\n      <td>CHEMBL194398</td>\n      <td>CCOC(=O)/C=C/[C@H](C[C@@H]1CCNC1=O)NC(=O)[C@@H...</td>\n      <td>870000.0</td>\n      <td>inactive</td>\n      <td>870.0</td>\n      <td>580.682</td>\n      <td>2.68582</td>\n      <td>156.70</td>\n      <td>3.0</td>\n      <td>8.0</td>\n    </tr>\n    <tr>\n      <th>1</th>\n      <td>CHEMBL393608</td>\n      <td>CCOC(=O)/C=C/[C@H](C[C@@H]1CCNC1=O)NC(=O)[C@H]...</td>\n      <td>200000.0</td>\n      <td>inactive</td>\n      <td>200.0</td>\n      <td>547.653</td>\n      <td>1.39862</td>\n      <td>168.73</td>\n      <td>4.0</td>\n      <td>8.0</td>\n    </tr>\n    <tr>\n      <th>2</th>\n      <td>CHEMBL238216</td>\n      <td>CCOC(=O)/C=C/[C@H](C[C@@H]1CCNC1=O)NC(=O)[C@H]...</td>\n      <td>300000.0</td>\n      <td>inactive</td>\n      <td>300.0</td>\n      <td>581.670</td>\n      <td>1.59522</td>\n      <td>168.73</td>\n      <td>4.0</td>\n      <td>8.0</td>\n    </tr>\n    <tr>\n      <th>3</th>\n      <td>CHEMBL235873</td>\n      <td>CCOC(=O)/C=C/[C@H](C[C@@H]1CCNC1=O)NC(=O)[C@H]...</td>\n      <td>15000.0</td>\n      <td>inactive</td>\n      <td>15.0</td>\n      <td>659.781</td>\n      <td>0.87060</td>\n      <td>201.26</td>\n      <td>6.0</td>\n      <td>9.0</td>\n    </tr>\n    <tr>\n      <th>4</th>\n      <td>CHEMBL397154</td>\n      <td>CCOC(=O)/C=C/[C@H](C[C@@H]1CCNC1=O)NC(=O)[C@H]...</td>\n      <td>10000.0</td>\n      <td>inactive</td>\n      <td>10.0</td>\n      <td>625.764</td>\n      <td>0.67400</td>\n      <td>201.26</td>\n      <td>6.0</td>\n      <td>9.0</td>\n    </tr>\n    <tr>\n      <th>...</th>\n      <td>...</td>\n      <td>...</td>\n      <td>...</td>\n      <td>...</td>\n      <td>...</td>\n      <td>...</td>\n      <td>...</td>\n      <td>...</td>\n      <td>...</td>\n      <td>...</td>\n    </tr>\n    <tr>\n      <th>209</th>\n      <td>CHEMBL4208764</td>\n      <td>CC(C)C[C@H](NC(=O)OC1(Cc2ccccc2)CCN(S(C)(=O)=O...</td>\n      <td>4300.0</td>\n      <td>intermediate</td>\n      <td>4.3</td>\n      <td>668.767</td>\n      <td>-2.95720</td>\n      <td>211.34</td>\n      <td>4.0</td>\n      <td>10.0</td>\n    </tr>\n    <tr>\n      <th>210</th>\n      <td>CHEMBL4212620</td>\n      <td>CCC1(OC(=O)N[C@@H](CC(C)C)C(=O)N[C@H](C=O)C[C@...</td>\n      <td>5500.0</td>\n      <td>intermediate</td>\n      <td>5.5</td>\n      <td>524.659</td>\n      <td>2.51690</td>\n      <td>143.14</td>\n      <td>3.0</td>\n      <td>7.0</td>\n    </tr>\n    <tr>\n      <th>211</th>\n      <td>CHEMBL4216101</td>\n      <td>CCC1(OC(=O)N[C@@H](CC(C)C)C(=O)N[C@@H](C[C@@H]...</td>\n      <td>4100.0</td>\n      <td>intermediate</td>\n      <td>4.1</td>\n      <td>628.721</td>\n      <td>-1.81440</td>\n      <td>203.50</td>\n      <td>4.0</td>\n      <td>10.0</td>\n    </tr>\n    <tr>\n      <th>212</th>\n      <td>CHEMBL4217568</td>\n      <td>CCOC(=O)N1CCC(OC(=O)N[C@@H](CC(C)C)C(=O)N[C@H]...</td>\n      <td>3200.0</td>\n      <td>intermediate</td>\n      <td>3.2</td>\n      <td>468.551</td>\n      <td>0.95810</td>\n      <td>143.14</td>\n      <td>3.0</td>\n      <td>7.0</td>\n    </tr>\n    <tr>\n      <th>213</th>\n      <td>CHEMBL4204431</td>\n      <td>CCOC(=O)N1CCC(OC(=O)N[C@@H](CC(C)C)C(=O)N[C@@H...</td>\n      <td>8800.0</td>\n      <td>intermediate</td>\n      <td>8.8</td>\n      <td>572.613</td>\n      <td>-3.37320</td>\n      <td>203.50</td>\n      <td>4.0</td>\n      <td>10.0</td>\n    </tr>\n  </tbody>\n</table>\n<p>214 rows × 10 columns</p>\n</div>"
     },
     "metadata": {},
     "execution_count": 51
    }
   ],
   "source": [
    "# Combining the pre-processed data and the descriptors dataframe we made in the above step, into a single dataframe.\n",
    "\n",
    "df_combined = pd.concat([df3,df_lipinski],axis=1)\n",
    "df_combined"
   ]
  },
  {
   "cell_type": "code",
   "execution_count": 52,
   "metadata": {
    "id": "tlhIBgfuMKe8"
   },
   "outputs": [],
   "source": [
    "# Defining a function that calculates pIC50 from IC50 values.\n",
    "# We are converting IC50 to pIC50 (negative log10 of IC50) for more uniform distribution of data.\n",
    "\n",
    "def pIC50(input):\n",
    "    pIC50 = []\n",
    "\n",
    "    for i in input['standard_value_norm']:\n",
    "        molar = i*(10**-9) # Converts nM to M\n",
    "        pIC50.append(-np.log10(molar))\n",
    "\n",
    "    input['pIC50'] = pIC50\n",
    "    x = input.drop('standard_value_norm', 1)\n",
    "        \n",
    "    return x"
   ]
  },
  {
   "cell_type": "code",
   "execution_count": 53,
   "metadata": {
    "id": "FVaQ0wXhMKfA"
   },
   "outputs": [],
   "source": [
    "# Before finding pIC50 and adding it to our dataframe, we have to set values of IC50 above 100000000 to 100000000\n",
    "# as for values greater than 100,000,000, pIC50 value will be negative, which we do not want to happen.\n",
    "\n",
    "# Defining a function to set the value of IC50 above 100000000 to 100000000.\n",
    "\n",
    "df_combined.standard_value = pd.to_numeric(df_combined.standard_value) # As, df_combined.standard_value is of dtype=object.\n",
    "def norm_value(input):\n",
    "    norm = []\n",
    "\n",
    "    for i in input['standard_value']:\n",
    "        if i > 100000000:\n",
    "          i = 100000000\n",
    "        norm.append(i)\n",
    "\n",
    "    input['standard_value_norm'] = norm\n",
    "    x = input.drop('standard_value', 1)\n",
    "        \n",
    "    return x"
   ]
  },
  {
   "cell_type": "code",
   "execution_count": 54,
   "metadata": {
    "id": "z_8oH9rCMKfC",
    "outputId": "8d7152d1-da21-4a59-b271-3177321cfa13"
   },
   "outputs": [
    {
     "output_type": "execute_result",
     "data": {
      "text/plain": [
       "    molecule_chembl_id                                   canonical_smiles  \\\n",
       "0         CHEMBL194398  CCOC(=O)/C=C/[C@H](C[C@@H]1CCNC1=O)NC(=O)[C@@H...   \n",
       "1         CHEMBL393608  CCOC(=O)/C=C/[C@H](C[C@@H]1CCNC1=O)NC(=O)[C@H]...   \n",
       "2         CHEMBL238216  CCOC(=O)/C=C/[C@H](C[C@@H]1CCNC1=O)NC(=O)[C@H]...   \n",
       "3         CHEMBL235873  CCOC(=O)/C=C/[C@H](C[C@@H]1CCNC1=O)NC(=O)[C@H]...   \n",
       "4         CHEMBL397154  CCOC(=O)/C=C/[C@H](C[C@@H]1CCNC1=O)NC(=O)[C@H]...   \n",
       "..                 ...                                                ...   \n",
       "209      CHEMBL4208764  CC(C)C[C@H](NC(=O)OC1(Cc2ccccc2)CCN(S(C)(=O)=O...   \n",
       "210      CHEMBL4212620  CCC1(OC(=O)N[C@@H](CC(C)C)C(=O)N[C@H](C=O)C[C@...   \n",
       "211      CHEMBL4216101  CCC1(OC(=O)N[C@@H](CC(C)C)C(=O)N[C@@H](C[C@@H]...   \n",
       "212      CHEMBL4217568  CCOC(=O)N1CCC(OC(=O)N[C@@H](CC(C)C)C(=O)N[C@H]...   \n",
       "213      CHEMBL4204431  CCOC(=O)N1CCC(OC(=O)N[C@@H](CC(C)C)C(=O)N[C@@H...   \n",
       "\n",
       "    bioactivity_class  value       MW    ALogP     PSA  NumHDonors  \\\n",
       "0            inactive  870.0  580.682  2.68582  156.70         3.0   \n",
       "1            inactive  200.0  547.653  1.39862  168.73         4.0   \n",
       "2            inactive  300.0  581.670  1.59522  168.73         4.0   \n",
       "3            inactive   15.0  659.781  0.87060  201.26         6.0   \n",
       "4            inactive   10.0  625.764  0.67400  201.26         6.0   \n",
       "..                ...    ...      ...      ...     ...         ...   \n",
       "209      intermediate    4.3  668.767 -2.95720  211.34         4.0   \n",
       "210      intermediate    5.5  524.659  2.51690  143.14         3.0   \n",
       "211      intermediate    4.1  628.721 -1.81440  203.50         4.0   \n",
       "212      intermediate    3.2  468.551  0.95810  143.14         3.0   \n",
       "213      intermediate    8.8  572.613 -3.37320  203.50         4.0   \n",
       "\n",
       "     NumHAcceptors  standard_value_norm  \n",
       "0              8.0             870000.0  \n",
       "1              8.0             200000.0  \n",
       "2              8.0             300000.0  \n",
       "3              9.0              15000.0  \n",
       "4              9.0              10000.0  \n",
       "..             ...                  ...  \n",
       "209           10.0               4300.0  \n",
       "210            7.0               5500.0  \n",
       "211           10.0               4100.0  \n",
       "212            7.0               3200.0  \n",
       "213           10.0               8800.0  \n",
       "\n",
       "[214 rows x 10 columns]"
      ],
      "text/html": "<div>\n<style scoped>\n    .dataframe tbody tr th:only-of-type {\n        vertical-align: middle;\n    }\n\n    .dataframe tbody tr th {\n        vertical-align: top;\n    }\n\n    .dataframe thead th {\n        text-align: right;\n    }\n</style>\n<table border=\"1\" class=\"dataframe\">\n  <thead>\n    <tr style=\"text-align: right;\">\n      <th></th>\n      <th>molecule_chembl_id</th>\n      <th>canonical_smiles</th>\n      <th>bioactivity_class</th>\n      <th>value</th>\n      <th>MW</th>\n      <th>ALogP</th>\n      <th>PSA</th>\n      <th>NumHDonors</th>\n      <th>NumHAcceptors</th>\n      <th>standard_value_norm</th>\n    </tr>\n  </thead>\n  <tbody>\n    <tr>\n      <th>0</th>\n      <td>CHEMBL194398</td>\n      <td>CCOC(=O)/C=C/[C@H](C[C@@H]1CCNC1=O)NC(=O)[C@@H...</td>\n      <td>inactive</td>\n      <td>870.0</td>\n      <td>580.682</td>\n      <td>2.68582</td>\n      <td>156.70</td>\n      <td>3.0</td>\n      <td>8.0</td>\n      <td>870000.0</td>\n    </tr>\n    <tr>\n      <th>1</th>\n      <td>CHEMBL393608</td>\n      <td>CCOC(=O)/C=C/[C@H](C[C@@H]1CCNC1=O)NC(=O)[C@H]...</td>\n      <td>inactive</td>\n      <td>200.0</td>\n      <td>547.653</td>\n      <td>1.39862</td>\n      <td>168.73</td>\n      <td>4.0</td>\n      <td>8.0</td>\n      <td>200000.0</td>\n    </tr>\n    <tr>\n      <th>2</th>\n      <td>CHEMBL238216</td>\n      <td>CCOC(=O)/C=C/[C@H](C[C@@H]1CCNC1=O)NC(=O)[C@H]...</td>\n      <td>inactive</td>\n      <td>300.0</td>\n      <td>581.670</td>\n      <td>1.59522</td>\n      <td>168.73</td>\n      <td>4.0</td>\n      <td>8.0</td>\n      <td>300000.0</td>\n    </tr>\n    <tr>\n      <th>3</th>\n      <td>CHEMBL235873</td>\n      <td>CCOC(=O)/C=C/[C@H](C[C@@H]1CCNC1=O)NC(=O)[C@H]...</td>\n      <td>inactive</td>\n      <td>15.0</td>\n      <td>659.781</td>\n      <td>0.87060</td>\n      <td>201.26</td>\n      <td>6.0</td>\n      <td>9.0</td>\n      <td>15000.0</td>\n    </tr>\n    <tr>\n      <th>4</th>\n      <td>CHEMBL397154</td>\n      <td>CCOC(=O)/C=C/[C@H](C[C@@H]1CCNC1=O)NC(=O)[C@H]...</td>\n      <td>inactive</td>\n      <td>10.0</td>\n      <td>625.764</td>\n      <td>0.67400</td>\n      <td>201.26</td>\n      <td>6.0</td>\n      <td>9.0</td>\n      <td>10000.0</td>\n    </tr>\n    <tr>\n      <th>...</th>\n      <td>...</td>\n      <td>...</td>\n      <td>...</td>\n      <td>...</td>\n      <td>...</td>\n      <td>...</td>\n      <td>...</td>\n      <td>...</td>\n      <td>...</td>\n      <td>...</td>\n    </tr>\n    <tr>\n      <th>209</th>\n      <td>CHEMBL4208764</td>\n      <td>CC(C)C[C@H](NC(=O)OC1(Cc2ccccc2)CCN(S(C)(=O)=O...</td>\n      <td>intermediate</td>\n      <td>4.3</td>\n      <td>668.767</td>\n      <td>-2.95720</td>\n      <td>211.34</td>\n      <td>4.0</td>\n      <td>10.0</td>\n      <td>4300.0</td>\n    </tr>\n    <tr>\n      <th>210</th>\n      <td>CHEMBL4212620</td>\n      <td>CCC1(OC(=O)N[C@@H](CC(C)C)C(=O)N[C@H](C=O)C[C@...</td>\n      <td>intermediate</td>\n      <td>5.5</td>\n      <td>524.659</td>\n      <td>2.51690</td>\n      <td>143.14</td>\n      <td>3.0</td>\n      <td>7.0</td>\n      <td>5500.0</td>\n    </tr>\n    <tr>\n      <th>211</th>\n      <td>CHEMBL4216101</td>\n      <td>CCC1(OC(=O)N[C@@H](CC(C)C)C(=O)N[C@@H](C[C@@H]...</td>\n      <td>intermediate</td>\n      <td>4.1</td>\n      <td>628.721</td>\n      <td>-1.81440</td>\n      <td>203.50</td>\n      <td>4.0</td>\n      <td>10.0</td>\n      <td>4100.0</td>\n    </tr>\n    <tr>\n      <th>212</th>\n      <td>CHEMBL4217568</td>\n      <td>CCOC(=O)N1CCC(OC(=O)N[C@@H](CC(C)C)C(=O)N[C@H]...</td>\n      <td>intermediate</td>\n      <td>3.2</td>\n      <td>468.551</td>\n      <td>0.95810</td>\n      <td>143.14</td>\n      <td>3.0</td>\n      <td>7.0</td>\n      <td>3200.0</td>\n    </tr>\n    <tr>\n      <th>213</th>\n      <td>CHEMBL4204431</td>\n      <td>CCOC(=O)N1CCC(OC(=O)N[C@@H](CC(C)C)C(=O)N[C@@H...</td>\n      <td>intermediate</td>\n      <td>8.8</td>\n      <td>572.613</td>\n      <td>-3.37320</td>\n      <td>203.50</td>\n      <td>4.0</td>\n      <td>10.0</td>\n      <td>8800.0</td>\n    </tr>\n  </tbody>\n</table>\n<p>214 rows × 10 columns</p>\n</div>"
     },
     "metadata": {},
     "execution_count": 54
    }
   ],
   "source": [
    "# Applying the above function on the IC50 value column of our current dataframe.\n",
    "\n",
    "df_norm = norm_value(df_combined)\n",
    "df_norm"
   ]
  },
  {
   "cell_type": "code",
   "execution_count": 55,
   "metadata": {
    "id": "cwT2EQGRMKfF",
    "outputId": "c7986953-1b13-4b1b-8826-1de527949fec"
   },
   "outputs": [
    {
     "output_type": "execute_result",
     "data": {
      "text/plain": [
       "    molecule_chembl_id                                   canonical_smiles  \\\n",
       "0         CHEMBL194398  CCOC(=O)/C=C/[C@H](C[C@@H]1CCNC1=O)NC(=O)[C@@H...   \n",
       "1         CHEMBL393608  CCOC(=O)/C=C/[C@H](C[C@@H]1CCNC1=O)NC(=O)[C@H]...   \n",
       "2         CHEMBL238216  CCOC(=O)/C=C/[C@H](C[C@@H]1CCNC1=O)NC(=O)[C@H]...   \n",
       "3         CHEMBL235873  CCOC(=O)/C=C/[C@H](C[C@@H]1CCNC1=O)NC(=O)[C@H]...   \n",
       "4         CHEMBL397154  CCOC(=O)/C=C/[C@H](C[C@@H]1CCNC1=O)NC(=O)[C@H]...   \n",
       "..                 ...                                                ...   \n",
       "209      CHEMBL4208764  CC(C)C[C@H](NC(=O)OC1(Cc2ccccc2)CCN(S(C)(=O)=O...   \n",
       "210      CHEMBL4212620  CCC1(OC(=O)N[C@@H](CC(C)C)C(=O)N[C@H](C=O)C[C@...   \n",
       "211      CHEMBL4216101  CCC1(OC(=O)N[C@@H](CC(C)C)C(=O)N[C@@H](C[C@@H]...   \n",
       "212      CHEMBL4217568  CCOC(=O)N1CCC(OC(=O)N[C@@H](CC(C)C)C(=O)N[C@H]...   \n",
       "213      CHEMBL4204431  CCOC(=O)N1CCC(OC(=O)N[C@@H](CC(C)C)C(=O)N[C@@H...   \n",
       "\n",
       "    bioactivity_class  value       MW    ALogP     PSA  NumHDonors  \\\n",
       "0            inactive  870.0  580.682  2.68582  156.70         3.0   \n",
       "1            inactive  200.0  547.653  1.39862  168.73         4.0   \n",
       "2            inactive  300.0  581.670  1.59522  168.73         4.0   \n",
       "3            inactive   15.0  659.781  0.87060  201.26         6.0   \n",
       "4            inactive   10.0  625.764  0.67400  201.26         6.0   \n",
       "..                ...    ...      ...      ...     ...         ...   \n",
       "209      intermediate    4.3  668.767 -2.95720  211.34         4.0   \n",
       "210      intermediate    5.5  524.659  2.51690  143.14         3.0   \n",
       "211      intermediate    4.1  628.721 -1.81440  203.50         4.0   \n",
       "212      intermediate    3.2  468.551  0.95810  143.14         3.0   \n",
       "213      intermediate    8.8  572.613 -3.37320  203.50         4.0   \n",
       "\n",
       "     NumHAcceptors     pIC50  \n",
       "0              8.0  3.060481  \n",
       "1              8.0  3.698970  \n",
       "2              8.0  3.522879  \n",
       "3              9.0  4.823909  \n",
       "4              9.0  5.000000  \n",
       "..             ...       ...  \n",
       "209           10.0  5.366532  \n",
       "210            7.0  5.259637  \n",
       "211           10.0  5.387216  \n",
       "212            7.0  5.494850  \n",
       "213           10.0  5.055517  \n",
       "\n",
       "[214 rows x 10 columns]"
      ],
      "text/html": "<div>\n<style scoped>\n    .dataframe tbody tr th:only-of-type {\n        vertical-align: middle;\n    }\n\n    .dataframe tbody tr th {\n        vertical-align: top;\n    }\n\n    .dataframe thead th {\n        text-align: right;\n    }\n</style>\n<table border=\"1\" class=\"dataframe\">\n  <thead>\n    <tr style=\"text-align: right;\">\n      <th></th>\n      <th>molecule_chembl_id</th>\n      <th>canonical_smiles</th>\n      <th>bioactivity_class</th>\n      <th>value</th>\n      <th>MW</th>\n      <th>ALogP</th>\n      <th>PSA</th>\n      <th>NumHDonors</th>\n      <th>NumHAcceptors</th>\n      <th>pIC50</th>\n    </tr>\n  </thead>\n  <tbody>\n    <tr>\n      <th>0</th>\n      <td>CHEMBL194398</td>\n      <td>CCOC(=O)/C=C/[C@H](C[C@@H]1CCNC1=O)NC(=O)[C@@H...</td>\n      <td>inactive</td>\n      <td>870.0</td>\n      <td>580.682</td>\n      <td>2.68582</td>\n      <td>156.70</td>\n      <td>3.0</td>\n      <td>8.0</td>\n      <td>3.060481</td>\n    </tr>\n    <tr>\n      <th>1</th>\n      <td>CHEMBL393608</td>\n      <td>CCOC(=O)/C=C/[C@H](C[C@@H]1CCNC1=O)NC(=O)[C@H]...</td>\n      <td>inactive</td>\n      <td>200.0</td>\n      <td>547.653</td>\n      <td>1.39862</td>\n      <td>168.73</td>\n      <td>4.0</td>\n      <td>8.0</td>\n      <td>3.698970</td>\n    </tr>\n    <tr>\n      <th>2</th>\n      <td>CHEMBL238216</td>\n      <td>CCOC(=O)/C=C/[C@H](C[C@@H]1CCNC1=O)NC(=O)[C@H]...</td>\n      <td>inactive</td>\n      <td>300.0</td>\n      <td>581.670</td>\n      <td>1.59522</td>\n      <td>168.73</td>\n      <td>4.0</td>\n      <td>8.0</td>\n      <td>3.522879</td>\n    </tr>\n    <tr>\n      <th>3</th>\n      <td>CHEMBL235873</td>\n      <td>CCOC(=O)/C=C/[C@H](C[C@@H]1CCNC1=O)NC(=O)[C@H]...</td>\n      <td>inactive</td>\n      <td>15.0</td>\n      <td>659.781</td>\n      <td>0.87060</td>\n      <td>201.26</td>\n      <td>6.0</td>\n      <td>9.0</td>\n      <td>4.823909</td>\n    </tr>\n    <tr>\n      <th>4</th>\n      <td>CHEMBL397154</td>\n      <td>CCOC(=O)/C=C/[C@H](C[C@@H]1CCNC1=O)NC(=O)[C@H]...</td>\n      <td>inactive</td>\n      <td>10.0</td>\n      <td>625.764</td>\n      <td>0.67400</td>\n      <td>201.26</td>\n      <td>6.0</td>\n      <td>9.0</td>\n      <td>5.000000</td>\n    </tr>\n    <tr>\n      <th>...</th>\n      <td>...</td>\n      <td>...</td>\n      <td>...</td>\n      <td>...</td>\n      <td>...</td>\n      <td>...</td>\n      <td>...</td>\n      <td>...</td>\n      <td>...</td>\n      <td>...</td>\n    </tr>\n    <tr>\n      <th>209</th>\n      <td>CHEMBL4208764</td>\n      <td>CC(C)C[C@H](NC(=O)OC1(Cc2ccccc2)CCN(S(C)(=O)=O...</td>\n      <td>intermediate</td>\n      <td>4.3</td>\n      <td>668.767</td>\n      <td>-2.95720</td>\n      <td>211.34</td>\n      <td>4.0</td>\n      <td>10.0</td>\n      <td>5.366532</td>\n    </tr>\n    <tr>\n      <th>210</th>\n      <td>CHEMBL4212620</td>\n      <td>CCC1(OC(=O)N[C@@H](CC(C)C)C(=O)N[C@H](C=O)C[C@...</td>\n      <td>intermediate</td>\n      <td>5.5</td>\n      <td>524.659</td>\n      <td>2.51690</td>\n      <td>143.14</td>\n      <td>3.0</td>\n      <td>7.0</td>\n      <td>5.259637</td>\n    </tr>\n    <tr>\n      <th>211</th>\n      <td>CHEMBL4216101</td>\n      <td>CCC1(OC(=O)N[C@@H](CC(C)C)C(=O)N[C@@H](C[C@@H]...</td>\n      <td>intermediate</td>\n      <td>4.1</td>\n      <td>628.721</td>\n      <td>-1.81440</td>\n      <td>203.50</td>\n      <td>4.0</td>\n      <td>10.0</td>\n      <td>5.387216</td>\n    </tr>\n    <tr>\n      <th>212</th>\n      <td>CHEMBL4217568</td>\n      <td>CCOC(=O)N1CCC(OC(=O)N[C@@H](CC(C)C)C(=O)N[C@H]...</td>\n      <td>intermediate</td>\n      <td>3.2</td>\n      <td>468.551</td>\n      <td>0.95810</td>\n      <td>143.14</td>\n      <td>3.0</td>\n      <td>7.0</td>\n      <td>5.494850</td>\n    </tr>\n    <tr>\n      <th>213</th>\n      <td>CHEMBL4204431</td>\n      <td>CCOC(=O)N1CCC(OC(=O)N[C@@H](CC(C)C)C(=O)N[C@@H...</td>\n      <td>intermediate</td>\n      <td>8.8</td>\n      <td>572.613</td>\n      <td>-3.37320</td>\n      <td>203.50</td>\n      <td>4.0</td>\n      <td>10.0</td>\n      <td>5.055517</td>\n    </tr>\n  </tbody>\n</table>\n<p>214 rows × 10 columns</p>\n</div>"
     },
     "metadata": {},
     "execution_count": 55
    }
   ],
   "source": [
    "# Finding and adding the pIC50 column, using the normalised IC50 data column\n",
    "\n",
    "df_final = pIC50(df_norm)\n",
    "df_final"
   ]
  },
  {
   "cell_type": "code",
   "execution_count": 56,
   "metadata": {},
   "outputs": [],
   "source": [
    "# Saving the compounds with their ID, SMILES, Bioactivity Class and the Descriptors into a single .csv file\n",
    "\n",
    "df_final.to_csv('Results\\Data+Descriptors_Replicase polyprotein 1ab.csv', index=False)"
   ]
  },
  {
   "cell_type": "code",
   "execution_count": 57,
   "metadata": {
    "id": "tXUeoRusMKfM"
   },
   "outputs": [],
   "source": [
    "# Only taking the descriptors and the pIC50 value columns, and making it to a new dataframe.\n",
    "\n",
    "selection=[\"MW\",\"ALogP\",\"PSA\",\"NumHDonors\",\"NumHAcceptors\",\"pIC50\"]\n",
    "df4=df_final[selection]"
   ]
  },
  {
   "cell_type": "code",
   "execution_count": 58,
   "metadata": {
    "id": "1to97xpQMKfP"
   },
   "outputs": [],
   "source": [
    "# Saving the compounds data descriptors into a single .csv file.\n",
    "\n",
    "df4.to_csv('Results\\Descriptors_Replicase polyprotein 1ab.csv', index=False)"
   ]
  },
  {
   "cell_type": "markdown",
   "metadata": {
    "id": "0Vy84ceEMKfQ"
   },
   "source": [
    "## Part 4: Building the Model "
   ]
  },
  {
   "cell_type": "code",
   "execution_count": 59,
   "metadata": {
    "id": "dF7UZkMbMKfT"
   },
   "outputs": [],
   "source": [
    "# Importing relavant sklearn modules\n",
    "\n",
    "from sklearn.model_selection import train_test_split\n",
    "from sklearn import linear_model\n",
    "from sklearn.metrics import mean_squared_error, r2_score, accuracy_score, confusion_matrix, accuracy_score"
   ]
  },
  {
   "cell_type": "markdown",
   "metadata": {},
   "source": [
    "We have tried to run **three ML models**, on X and Y data, namely: <br>\n",
    "1. Multiple Linear Regression<br>\n",
    "2. Random Forest Model<br>\n",
    "3. SVM Classification Model<br>\n",
    "<br>The **R2 score/Accuracy** that we got for each model is displayed. "
   ]
  },
  {
   "cell_type": "code",
   "execution_count": 60,
   "metadata": {},
   "outputs": [],
   "source": [
    "# We choose the final Data Descriptors dataframe we got from the above Part 3 as X,\n",
    "# and the 'value' column of the database (given initially) as Y\n",
    "\n",
    "X,Y=df4,df_final.value"
   ]
  },
  {
   "cell_type": "code",
   "execution_count": 61,
   "metadata": {
    "id": "DXE-Bfb-MKfV",
    "outputId": "c37e8786-6dd2-4595-fe65-67c9191a31d3"
   },
   "outputs": [
    {
     "output_type": "stream",
     "name": "stdout",
     "text": [
      "The R2 score (mean) that we are getting for this model is : 0.29493963178758204\n"
     ]
    }
   ],
   "source": [
    "# Multiple linear Regression Model\n",
    "\n",
    "r2_sum,i=0,0\n",
    "for i in range(1000): # Repeating the model 1000 times and finding the average R2 Score\n",
    "    X_train, X_test, Y_train, Y_test = train_test_split(X, Y, test_size=0.5)\n",
    "    \n",
    "    model = linear_model.LinearRegression()\n",
    "    model.fit(X_train, Y_train)\n",
    "    \n",
    "    Y_pred = model.predict(X_test)\n",
    "    r2_sum = r2_sum + r2_score(Y_test,Y_pred)\n",
    "    \n",
    "print(\"The R2 score (mean) that we are getting for this model is :\",r2_sum/1000)"
   ]
  },
  {
   "cell_type": "code",
   "execution_count": 62,
   "metadata": {
    "id": "vjwtdzqZMKfX",
    "outputId": "338cd192-e76f-4be7-b263-7e3a1b923986"
   },
   "outputs": [
    {
     "output_type": "stream",
     "name": "stdout",
     "text": [
      "The accuracy of the model is:  92.17 %.\n"
     ]
    }
   ],
   "source": [
    "# Random Forest Model\n",
    "from sklearn.ensemble import RandomForestRegressor\n",
    "\n",
    "X_train, X_test, Y_train, Y_test = train_test_split(X, Y, test_size=0.5)\n",
    "model = RandomForestRegressor(n_estimators=1000)\n",
    "model.fit(X_train, Y_train)\n",
    "Y_pred = model.predict(X_test)\n",
    "\n",
    "errors = np.abs(Y_pred-(Y_test).astype(float)) \n",
    "mape = 100 * (errors/((Y_test).astype(float)))\n",
    "accuracy = 100-np.mean(mape) # mape = mean absolute percentage error\n",
    "\n",
    "print(\"The accuracy of the model is: \",round(accuracy, 2), '%.')"
   ]
  },
  {
   "cell_type": "code",
   "execution_count": 63,
   "metadata": {},
   "outputs": [
    {
     "output_type": "execute_result",
     "data": {
      "text/plain": [
       "[array([[ 1,  3,  0],\n",
       "        [ 2, 78,  0],\n",
       "        [ 1, 22,  0]], dtype=int64), 0.7383177570093458]"
      ]
     },
     "metadata": {},
     "execution_count": 63
    }
   ],
   "source": [
    "# Support Vector Machine-Classification Model\n",
    "\n",
    "from sklearn import svm\n",
    "def support_vector(x_data,y_data):\n",
    "    x_train, x_test, y_train, y_test = train_test_split(x_data, y_data, test_size = 0.50)\n",
    "    model = svm.SVC(kernel ='linear')\n",
    "    model.fit(x_train,y_train)\n",
    "    y_pred = model.predict(x_test)\n",
    "\n",
    "    return [confusion_matrix(y_test,y_pred),accuracy_score(y_test,y_pred)]\n",
    "\n",
    "acc_score = support_vector(df_final[['ALogP','MW','NumHDonors','NumHAcceptors','PSA']],df_final.bioactivity_class)[1]\n",
    "support_vector(df_final[['ALogP','MW','NumHDonors','NumHAcceptors','PSA']],df_final.bioactivity_class)\n",
    "\n",
    "# In this model, we have taken only 'ALogP','MW','NumHDonors','NumHAcceptors' and 'PSA' and classified by 'bioactivity_class'"
   ]
  },
  {
   "cell_type": "code",
   "execution_count": 64,
   "metadata": {},
   "outputs": [
    {
     "output_type": "stream",
     "name": "stdout",
     "text": [
      "The accuracy of the model is:  73.83 %.\n"
     ]
    }
   ],
   "source": [
    "print(\"The accuracy of the model is: \",round(acc_score*100,2), '%.')"
   ]
  },
  {
   "cell_type": "markdown",
   "metadata": {},
   "source": [
    "### Conclusion:\n",
    "We tried to apply a few models (like above) on the data set we were able to prepare. The Random Forest Model seemed most promising of all the models. The observations and understandings have been detailed in the 'Project_Description.pdf' file, in the root directory.<br><br>\n",
    "A huge thank you to Data Professor's Bioinformatics YouTube tutorial series. \n",
    "<br>Link:https://www.youtube.com/playlist?list=PLtqF5YXg7GLlQJUv9XJ3RWdd5VYGwBHrP<br>This series helped us in acquisition and preparation of data used in this project. <br><br>\n",
    "Thank you having a look at our work!"
   ]
  },
  {
   "cell_type": "code",
   "execution_count": null,
   "metadata": {},
   "outputs": [],
   "source": []
  }
 ],
 "metadata": {
  "colab": {
   "name": "DSE Project.ipynb",
   "provenance": []
  },
  "kernelspec": {
   "name": "python3613jvsc74a57bd058a8ea304dada7627942c2d8cc19e0f451253f91c63afc94803c142ea21ada3a",
   "display_name": "Python 3.6.13 64-bit ('my-rdkit-env': conda)"
  },
  "language_info": {
   "codemirror_mode": {
    "name": "ipython",
    "version": 3
   },
   "file_extension": ".py",
   "mimetype": "text/x-python",
   "name": "python",
   "nbconvert_exporter": "python",
   "pygments_lexer": "ipython3",
   "version": "3.6.13"
  },
  "metadata": {
   "interpreter": {
    "hash": "58a8ea304dada7627942c2d8cc19e0f451253f91c63afc94803c142ea21ada3a"
   }
  }
 },
 "nbformat": 4,
 "nbformat_minor": 1
}